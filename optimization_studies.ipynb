{
  "nbformat": 4,
  "nbformat_minor": 0,
  "metadata": {
    "colab": {
      "provenance": [],
      "authorship_tag": "ABX9TyMpNZMHddE5OvtODnBkxZ/p",
      "include_colab_link": true
    },
    "kernelspec": {
      "name": "python3",
      "display_name": "Python 3"
    },
    "language_info": {
      "name": "python"
    }
  },
  "cells": [
    {
      "cell_type": "markdown",
      "metadata": {
        "id": "view-in-github",
        "colab_type": "text"
      },
      "source": [
        "<a href=\"https://colab.research.google.com/github/virolivs/optimization-studies/blob/main/optimization_studies.ipynb\" target=\"_parent\"><img src=\"https://colab.research.google.com/assets/colab-badge.svg\" alt=\"Open In Colab\"/></a>"
      ]
    },
    {
      "cell_type": "markdown",
      "source": [
        "Problema:\n",
        "\n",
        "Uma empresa deseja alocar dois clientes a dois centros de distribuição. A alocação deve maximizar a eficiência (representada por um valor de \"pontuação\" para cada combinação cliente-centro). Cada cliente deve ser alocado a exatamente um centro, e cada centro pode atender no máximo um cliente."
      ],
      "metadata": {
        "id": "tumLoWe_Qpxy"
      }
    },
    {
      "cell_type": "markdown",
      "source": [
        "![image.png](data:image/png;base64,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)"
      ],
      "metadata": {
        "id": "f09mOkgeQ0Od"
      }
    },
    {
      "cell_type": "markdown",
      "source": [
        "Queremos maximizar a pontuação total."
      ],
      "metadata": {
        "id": "p35VW-vKQ6oF"
      }
    },
    {
      "cell_type": "markdown",
      "source": [
        "**Modelo Matemático**\n",
        "\n",
        "Variáveis de Decisão:\n",
        "\n",
        "𝑥\n",
        "𝑖\n",
        "𝑗\n",
        "x\n",
        "ij\n",
        "​\n",
        " : 1 se o cliente\n",
        "𝑖\n",
        "i for alocado ao centro\n",
        "𝑗\n",
        "j, 0 caso contrário.\n",
        "\n",
        "Função Objetivo:\n",
        "\n",
        "\n",
        "Maximizar\n",
        "8\n",
        "𝑥\n",
        "1\n",
        "𝐴\n",
        "+\n",
        "6\n",
        "𝑥\n",
        "1\n",
        "𝐵\n",
        "+\n",
        "7\n",
        "𝑥\n",
        "2\n",
        "𝐴\n",
        "+\n",
        "9\n",
        "𝑥\n",
        "2\n",
        "𝐵\n",
        "8x\n",
        "1A\n",
        "​\n",
        " +6x\n",
        "1B\n",
        "​\n",
        " +7x\n",
        "2A\n",
        "​\n",
        " +9x\n",
        "2B\n",
        "​\n",
        " .\n",
        "\n",
        "\n",
        "Restrições:\n",
        "\n",
        "Cada cliente deve ser alocado a exatamente um centro:\n",
        "𝑥\n",
        "1\n",
        "𝐴\n",
        "+\n",
        "𝑥\n",
        "1\n",
        "𝐵\n",
        "=\n",
        "1\n",
        "x\n",
        "1A\n",
        "​\n",
        " +x\n",
        "1B\n",
        "​\n",
        " =1\n",
        "𝑥\n",
        "2\n",
        "𝐴\n",
        "+\n",
        "𝑥\n",
        "2\n",
        "𝐵\n",
        "=\n",
        "1\n",
        "x\n",
        "2A\n",
        "​\n",
        " +x\n",
        "2B\n",
        "​\n",
        " =1\n",
        "\n",
        "Cada centro pode atender no máximo um cliente:\n",
        "𝑥\n",
        "1\n",
        "𝐴\n",
        "+\n",
        "𝑥\n",
        "2\n",
        "𝐴\n",
        "≤\n",
        "1\n",
        "x\n",
        "1A\n",
        "​\n",
        " +x\n",
        "2A\n",
        "​\n",
        " ≤1\n",
        "𝑥\n",
        "1\n",
        "𝐵\n",
        "+\n",
        "𝑥\n",
        "2\n",
        "𝐵\n",
        "≤\n",
        "1\n",
        "x\n",
        "1B\n",
        "​\n",
        " +x\n",
        "2B\n",
        "​\n",
        " ≤1"
      ],
      "metadata": {
        "id": "rKwck2v_RKfH"
      }
    },
    {
      "cell_type": "markdown",
      "source": [
        "## Utilizando o algoritmo Branch and Bound"
      ],
      "metadata": {
        "id": "nRo4RSuhRpn2"
      }
    },
    {
      "cell_type": "markdown",
      "source": [
        "Branch and Bound divide o problema em subproblemas menores para explorar diferentes combinações de variáveis, eliminando subproblemas inviáveis ou com soluções piores do que a melhor encontrada até o momento."
      ],
      "metadata": {
        "id": "GSBx0PCjRtli"
      }
    },
    {
      "cell_type": "markdown",
      "source": [
        "**Passos do Branch and Bound**\n",
        "\n",
        "\n",
        "1) Relaxação linear:\n",
        "\n",
        "Resolver o problema relaxado, permitindo que as variáveis sejam contínuas (\n",
        "0\n",
        "≤\n",
        "𝑥\n",
        "≤\n",
        "1\n",
        "0≤x≤1) em vez de inteiras (\n",
        "𝑥\n",
        "∈\n",
        "{\n",
        "0\n",
        ",\n",
        "1\n",
        "}\n",
        "x∈{0,1}).\n",
        "\n",
        "\n",
        "2) Testar Inteireza:\n",
        "\n",
        "Se todas as variáveis na solução relaxada forem inteiras, essa é uma solução candidata.\n",
        "\n",
        "\n",
        "3) Ramificação (Branching):\n",
        "\n",
        "Escolher uma variável\n",
        "𝑥\n",
        "𝑖\n",
        "𝑗\n",
        "x\n",
        "ij\n",
        "​\n",
        "  com valor fracionário na solução relaxada e criar dois subproblemas:\n",
        "Fixar\n",
        "𝑥\n",
        "𝑖\n",
        "𝑗\n",
        "=\n",
        "0\n",
        "x\n",
        "ij\n",
        "​\n",
        " =0.\n",
        "Fixar\n",
        "𝑥\n",
        "𝑖\n",
        "𝑗\n",
        "=\n",
        "1\n",
        "x\n",
        "ij\n",
        "​\n",
        " =1.\n",
        "\n",
        "\n",
        " 4) Eliminação (Bounding):\n",
        "\n",
        "Para cada subproblema, calcular o limite superior (valor da relaxação linear).\n",
        "Descartar ramos cujo limite superior seja menor do que a melhor solução inteira encontrada até agora.\n",
        "\n",
        "Iteração:\n",
        "\n",
        "Repetir o processo até que todos os ramos tenham sido explorados ou descartados."
      ],
      "metadata": {
        "id": "KV0W5TQVR4r5"
      }
    },
    {
      "cell_type": "markdown",
      "source": [
        "PSEUDOCODIGO"
      ],
      "metadata": {
        "id": "gOl9bki_UXRU"
      }
    },
    {
      "cell_type": "markdown",
      "source": [
        "1. Usando uma heurística, encontre uma solução \\( x_h \\) para o problema de otimização.\n",
        "2. Armazene seu valor: \\( B = f(x_h) \\).\n",
        "   (Se nenhuma heurística estiver disponível, defina \\( B \\) para infinito.)\n",
        "   \\( B \\) denotará a melhor solução encontrada até agora e será usada como limite superior em soluções candidatas.\n",
        "\n",
        "3. Inicialize uma fila para conter uma solução parcial sem nenhuma das variáveis atribuídas.\n",
        "\n",
        "4. Repita até que a fila esteja vazia:\n",
        "   \n",
        "   a. Retire um nó \\( N \\) da fila.\n",
        "\n",
        "   b. Se \\( N \\) representa uma única solução candidata \\( x \\) e \\( f(x) < B \\), então:\n",
        "      - \\( x \\) é a melhor solução até agora.\n",
        "      - Registre-a e defina \\( B \\leftarrow f(x) \\).\n",
        "\n",
        "   c. Caso contrário, ramifique em \\( N \\) para produzir novos nós \\( N_i \\).\n",
        "   \n",
        "   d. Para cada um desses novos nós \\( N_i \\):\n",
        "      - Se \\( \\text{bound}(N_i) > B \\), não faça nada.\n",
        "        (Como o limite inferior neste nó é maior que o limite superior do problema, ele nunca levará à solução ótima e pode ser descartado.)\n",
        "      - Caso contrário, armazene \\( N_i \\) na fila.\n",
        "\n"
      ],
      "metadata": {
        "id": "JJsYYbXgUKKv"
      }
    },
    {
      "cell_type": "code",
      "source": [
        "!pip install scipy"
      ],
      "metadata": {
        "colab": {
          "base_uri": "https://localhost:8080/"
        },
        "id": "JU8JIeYIXbyY",
        "outputId": "f1f9dad1-cf55-4edb-e788-bbf3c1cd1af0"
      },
      "execution_count": null,
      "outputs": [
        {
          "output_type": "stream",
          "name": "stdout",
          "text": [
            "Requirement already satisfied: scipy in /usr/local/lib/python3.10/dist-packages (1.13.1)\n",
            "Requirement already satisfied: numpy<2.3,>=1.22.4 in /usr/local/lib/python3.10/dist-packages (from scipy) (1.26.4)\n"
          ]
        }
      ]
    },
    {
      "cell_type": "code",
      "execution_count": null,
      "metadata": {
        "id": "CJ5GLkrJQlnX"
      },
      "outputs": [],
      "source": [
        "import numpy as np\n",
        "from scipy.optimize import linprog"
      ]
    },
    {
      "cell_type": "code",
      "source": [
        "def branch_and_bound(coefficients, constraints, bounds):\n",
        "  best_solution = None\n",
        "  best_value = -np.inf # armazena o valor da melhor solução até o momento\n",
        "  # inicializamos com - np.inf pois isso garante que qualquer valor será maior\n",
        "  stack = [bounds] # inicializa a pilha com um único elemento, que são os limites\n",
        "\n",
        "  while stack:\n",
        "    current_bounds = stack.pop() # desempilha o último elemento e armazena nessa variável\n",
        "    # ao retirar o elemento da pilha, o algoritmo indica que passará a explorar esse conjunto\n",
        "    # de soluções\n",
        "\n",
        "    '''\n",
        "    lembrando que a pilha é uma estrutura de dados LIFO (last in, first out). Ou seja,\n",
        "    o primeiro o último elemento adicionado à pilha é o último a ser retirado.\n",
        "    isso é necessário porque, durante a execução do algoritmo, o problema original pode\n",
        "    ser dividido em vários subproblemas (ou nós). Cada um desses subproblemas possui\n",
        "    seus próprios limites e restrições (bounds). Assim a pilha armazena esses subproblemas\n",
        "    por ordem de exploração e, quando a stack.pop() é executada, o algoritmo desempilha\n",
        "    o próximo problema a ser resolvido :)\n",
        "    '''\n",
        "\n",
        "    # etapa da relaxação linear:\n",
        "    result = linprog(-np.array(coefficients), A_eq=constraints['A_eq'], b_eq=constraints['b_eq'],\n",
        "                         bounds=current_bounds, method='highs')\n",
        "\n",
        "    '''\n",
        "    transformando uma maximização em minimização ao inverter os sinais dos coeficientes da função objetivo\n",
        "    (multiplicando por -1). As restrições de igualdade são passadas por A_eq e b_eq, e os limites das variáveis\n",
        "    são fornecidos por current_bounds. O método de solução escolhido é o 'highs', que é um solver eficiente\n",
        "    para programação linear. O resultado da otimização é armazenado na variável result.\n",
        "\n",
        "    exemplo para explicar as variáveis:\n",
        "    Se tivermos duas restrições de igualdade como:\n",
        "    2x + 3y = 5 e x - y = 1\n",
        "\n",
        "    As restrições de igualdade seriam:\n",
        "    A_eq = np.array([[2, 3],   # Coeficientes da primeira restrição (2x + 3y)\n",
        "                 [1, -1]])  # Coeficientes da segunda restrição (x - y)\n",
        "    b_eq = np.array([5, 1])    # Valores constantes das restrições\n",
        "\n",
        "    E por que inverter os sinais???\n",
        "    Porque a maioria dos solvers de otimização tratam problemas de minimização e\n",
        "    não de maximização. Então se você inverte os valores da função original encontra\n",
        "    a solução que maximiza o resultado, você encontra os valores que maximizam a\n",
        "    função original.\n",
        "    '''\n",
        "\n",
        "    if not result.success:\n",
        "            continue\n",
        "\n",
        "    solution = result.x # contém os valores das soluções que minimizam ou\n",
        "    # maximizam a função objetivo\n",
        "    value = -result.fun # o valor da função objetivo na solução encontrada\n",
        "    # no caso da função objetivo, (porque foi invertido)\n",
        "\n",
        "    # Testar inteireza\n",
        "    # Solução encontrada só pode ser candidata se ela for inteira\n",
        "\n",
        "    if all(np.isclose(solution, np.round(solution))):\n",
        "      '''\n",
        "      verifica se todos os elementos no array solution são praticamente\n",
        "      inteiros, ou seja, se todos os valores em solution são muito próximos de\n",
        "      seus valores arredondados. Se isso for verdade para todos os elementos, a\n",
        "      expressão retorna True; caso contrário, retorna False.\n",
        "      '''\n",
        "      if value > best_value:\n",
        "        best_value = value\n",
        "        best_solution = solution\n",
        "      else:\n",
        "        # Escolher uma variável fracionária para ramificar\n",
        "        # busca o primeiro valor que não se aproxima de nenhum\n",
        "        fractional_index = next(i for i, x in enumerate(solution) if not np.isclose(x, round(x)))\n",
        "\n",
        "        lower_bound = current_bounds.copy()\n",
        "        lower_bound[fractional_index] = (0, 0) # cria um ramo inferior na árvore de busca\n",
        "        # a variável deixa de ser um valor fracionária e é tratada como se fosse 0\n",
        "        # essa nova solução deve ser adicionada à stack de nós a serem explorados\n",
        "\n",
        "        upper_bound = current_bounds.copy()\n",
        "        upper_bound[fractional_index] = (1, 1) # ramo superior\n",
        "        stack.append(upper_bound)\n",
        "\n",
        "      return best_solution, best_value"
      ],
      "metadata": {
        "id": "Fj0g13RaX0Pm"
      },
      "execution_count": null,
      "outputs": []
    },
    {
      "cell_type": "code",
      "source": [
        "# Dados do problema\n",
        "coefficients = [8, 6, 7, 9]  # Pontuações\n",
        "constraints = {\n",
        "    'A_eq': [\n",
        "        [1, 1, 0, 0],  # Cliente 1\n",
        "        [0, 0, 1, 1],  # Cliente 2\n",
        "        [1, 0, 1, 0],  # Centro A\n",
        "        [0, 1, 0, 1]   # Centro B\n",
        "    ],\n",
        "    'b_eq': [1, 1, 1, 1]\n",
        "}\n",
        "bounds = [(0, 1)] * 4  # Variáveis binárias\n",
        "\n",
        "# Resolver o problema\n",
        "solution, value = branch_and_bound(coefficients, constraints, bounds)\n",
        "print(\"Melhor solução encontrada:\", solution)\n",
        "print(\"Pontuação máxima:\", value)"
      ],
      "metadata": {
        "colab": {
          "base_uri": "https://localhost:8080/"
        },
        "id": "LsfBrlE03fsT",
        "outputId": "2a0c50b5-441f-40ce-89bb-3039e4bcbf5a"
      },
      "execution_count": null,
      "outputs": [
        {
          "output_type": "stream",
          "name": "stdout",
          "text": [
            "Melhor solução encontrada: [ 1. -0. -0.  1.]\n",
            "Pontuação máxima: 17.0\n"
          ]
        }
      ]
    },
    {
      "cell_type": "markdown",
      "source": [
        "![image.png](data:image/png;base64,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)"
      ],
      "metadata": {
        "id": "5JW18N4M4zqV"
      }
    },
    {
      "cell_type": "markdown",
      "source": [
        "## Branch and Cut\n",
        "\n",
        "O algoritmo Branch and Cut é uma extensão do Branch and Bound que combina a técnica de ramificação com cortes (cutting planes) para melhorar a eficiência do processo de busca da solução ótima."
      ],
      "metadata": {
        "id": "Ef9iSuIF5CMD"
      }
    },
    {
      "cell_type": "markdown",
      "source": [
        "Passos do Branch and Cut\n",
        "\n",
        "1) Relaxação linear:\n",
        "\n",
        "Resolver o problema relaxado, permitindo que as variáveis sejam contínuas ( 0 ≤ 𝑥 ≤ 1 0≤x≤1) em vez de inteiras ( 𝑥 ∈ { 0 , 1 } x∈{0,1}).\n",
        "\n",
        "2) Testar Inteireza:\n",
        "\n",
        "Se todas as variáveis na solução relaxada forem inteiras, essa é uma solução candidata.\n",
        "\n",
        "3) Adicionar cortes (Cutting Planes)\n",
        "\n",
        "Se a solução relaxada não for inteira, deve-se adicionar cortes (restrições adicionais para o problema). Esses cortes são restrições que ajudam a remover soluções fracionárias que não podem fazer parte da solução inteira.\n",
        "\n",
        "4) Ramificação (Branching):\n",
        "\n",
        "Escolher uma variável 𝑥 𝑖 𝑗 x ij​com valor fracionário na solução relaxada e criar dois subproblemas: Fixar 𝑥 𝑖 𝑗 = 0 x ij​=0. Fixar 𝑥 𝑖 𝑗 = 1 x ij​=1. Criação de uma árvore de decisão\n",
        "\n",
        "5) Eliminação (Bounding):\n",
        "\n",
        "Para cada subproblema, calcular o limite superior (valor da relaxação linear). Descartar ramos cujo limite superior seja menor do que a melhor solução inteira encontrada até agora.\n",
        "\n",
        "Iteração:\n",
        "\n",
        "Repetir o processo até que todos os ramos tenham sido explorados ou descartados."
      ],
      "metadata": {
        "id": "jmeeitMd7env"
      }
    },
    {
      "cell_type": "code",
      "source": [
        "def cut(cuts, solution):\n",
        "    '''\n",
        "    Adiciona um corte com base na solução atual\n",
        "    Existem diferentes tipos de corte para adicionar essa restrição adicional!!\n",
        "    '''\n",
        "    # Corte de Gomory\n",
        "    '''\n",
        "    Dada uma solução fracionária, extrai-se a parte fracionária da solução e\n",
        "    cria-se uma desigualdade para eliminar essa solução, garantindo que soluções\n",
        "    inteiras permaneçam viáveis.\n",
        "    '''\n",
        "    fractional_part = solution - np.floor(solution)\n",
        "    new_cut = {\"A\": fractional_part, \"b\": np.sum(fractional_part) - 1}\n",
        "    cuts.append(new_cut)"
      ],
      "metadata": {
        "id": "lMPZ6ln_7eOh"
      },
      "execution_count": null,
      "outputs": []
    },
    {
      "cell_type": "code",
      "source": [
        "def branch_and_cut(coefficients, constraints, bounds):\n",
        "    best_solution = None\n",
        "    best_value = -np.inf  # Valor da melhor solução até o momento\n",
        "    stack = [bounds]  # Inicializa a pilha com os limites iniciais\n",
        "    cuts = []  # Lista para armazenar cortes adicionais\n",
        "\n",
        "    while stack:\n",
        "        current_bounds = stack.pop()  # Desempilha o conjunto atual de limites\n",
        "\n",
        "        # Etapa de relaxação linear\n",
        "        result = linprog(\n",
        "            -np.array(coefficients),\n",
        "            A_eq=constraints[\"A_eq\"],\n",
        "            b_eq=constraints[\"b_eq\"],\n",
        "            bounds=current_bounds,\n",
        "            method=\"highs\"\n",
        "        )\n",
        "\n",
        "        if not result.success:\n",
        "            continue\n",
        "\n",
        "        solution = result.x  # Solução da relaxação linear\n",
        "        value = -result.fun  # Valor da função objetivo (invertido de volta)\n",
        "\n",
        "        # Adiciona cortes se houver partes fracionárias\n",
        "        for cut in cuts:\n",
        "            # Checa se a solução viola o corte\n",
        "            if np.dot(cut[\"A\"], solution) > cut[\"b\"]:\n",
        "              # calcula o produto escalar entre o vetor cut cut[\"A\"] e a solução\n",
        "              # se sim, o corte é violado\n",
        "                break\n",
        "        else:  # Se todos os cortes forem satisfeitos, continua\n",
        "            # Testar inteireza\n",
        "            if all(np.isclose(solution, np.round(solution))):\n",
        "                if value > best_value:\n",
        "                    best_value = value\n",
        "                    best_solution = solution\n",
        "            else:\n",
        "                # Escolher uma variável fracionária para ramificar\n",
        "                fractional_index = next(i for i, x in enumerate(solution) if not np.isclose(x, round(x)))\n",
        "\n",
        "                # Criar novos ramos\n",
        "                lower_bound = current_bounds.copy()\n",
        "                lower_bound[fractional_index] = (0, 0)  # Fixar para 0\n",
        "                stack.append(lower_bound)\n",
        "\n",
        "                upper_bound = current_bounds.copy()\n",
        "                upper_bound[fractional_index] = (1, 1)  # Fixar para 1\n",
        "                stack.append(upper_bound)\n",
        "\n",
        "                # Adiciona um novo corte com base na solução atual\n",
        "                cut(cuts, solution)\n",
        "\n",
        "    return best_solution, best_value"
      ],
      "metadata": {
        "id": "88j6CqOr40nn"
      },
      "execution_count": null,
      "outputs": []
    },
    {
      "cell_type": "markdown",
      "source": [
        "![image.png](data:image/png;base64,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)"
      ],
      "metadata": {
        "id": "QOeqsYyPRRMH"
      }
    },
    {
      "cell_type": "markdown",
      "source": [
        "Exemplo numérico:\n",
        "\n",
        "Dada uma expressão\n",
        "3x1 + 2x2 <= 5\n",
        "\n",
        "Sabemos que [A] = 3, 2\n",
        "\n",
        "E a solução atual [1,2]\n",
        "\n",
        "Calcule o produto escalar entre [A] e a solução\n",
        "\n",
        "temos 3⋅1+2⋅2=3+4=7\n",
        "\n",
        "Comparação:\n",
        "\n",
        "7 > 5\n",
        "\n",
        "Logo, essa solução viola o corte"
      ],
      "metadata": {
        "id": "NB2KEimTRSD2"
      }
    },
    {
      "cell_type": "code",
      "source": [
        "# Dados do problema\n",
        "coefficients = [8, 6, 7, 9]  # Pontuações\n",
        "constraints = {\n",
        "    'A_eq': [\n",
        "        [1, 1, 0, 0],  # Cliente 1\n",
        "        [0, 0, 1, 1],  # Cliente 2\n",
        "        [1, 0, 1, 0],  # Centro A\n",
        "        [0, 1, 0, 1]   # Centro B\n",
        "    ],\n",
        "    'b_eq': [1, 1, 1, 1]\n",
        "}\n",
        "bounds = [(0, 1)] * 4  # Variáveis binárias\n",
        "\n",
        "# Resolver o problema\n",
        "solution, value = branch_and_cut(coefficients, constraints, bounds)\n",
        "print(\"Melhor solução encontrada:\", solution)\n",
        "print(\"Pontuação máxima:\", value)"
      ],
      "metadata": {
        "colab": {
          "base_uri": "https://localhost:8080/"
        },
        "id": "pLJX19SkSekP",
        "outputId": "bcb3e960-400a-4731-baf6-2bee7eafbe4b"
      },
      "execution_count": null,
      "outputs": [
        {
          "output_type": "stream",
          "name": "stdout",
          "text": [
            "Melhor solução encontrada: [ 1. -0. -0.  1.]\n",
            "Pontuação máxima: 17.0\n"
          ]
        }
      ]
    },
    {
      "cell_type": "markdown",
      "source": [
        "## Biblioteca OR tools"
      ],
      "metadata": {
        "id": "0jqs1cDaTDHj"
      }
    },
    {
      "cell_type": "code",
      "source": [
        "!pip install ortools"
      ],
      "metadata": {
        "colab": {
          "base_uri": "https://localhost:8080/"
        },
        "id": "XmNTPmmFTIgC",
        "outputId": "31434362-acab-41af-ae2b-90cab927906a"
      },
      "execution_count": null,
      "outputs": [
        {
          "output_type": "stream",
          "name": "stdout",
          "text": [
            "Collecting ortools\n",
            "  Downloading ortools-9.11.4210-cp310-cp310-manylinux_2_17_x86_64.manylinux2014_x86_64.whl.metadata (3.0 kB)\n",
            "Collecting absl-py>=2.0.0 (from ortools)\n",
            "  Downloading absl_py-2.1.0-py3-none-any.whl.metadata (2.3 kB)\n",
            "Requirement already satisfied: numpy>=1.13.3 in /usr/local/lib/python3.10/dist-packages (from ortools) (1.26.4)\n",
            "Requirement already satisfied: pandas>=2.0.0 in /usr/local/lib/python3.10/dist-packages (from ortools) (2.2.2)\n",
            "Collecting protobuf<5.27,>=5.26.1 (from ortools)\n",
            "  Downloading protobuf-5.26.1-cp37-abi3-manylinux2014_x86_64.whl.metadata (592 bytes)\n",
            "Requirement already satisfied: immutabledict>=3.0.0 in /usr/local/lib/python3.10/dist-packages (from ortools) (4.2.1)\n",
            "Requirement already satisfied: python-dateutil>=2.8.2 in /usr/local/lib/python3.10/dist-packages (from pandas>=2.0.0->ortools) (2.8.2)\n",
            "Requirement already satisfied: pytz>=2020.1 in /usr/local/lib/python3.10/dist-packages (from pandas>=2.0.0->ortools) (2024.2)\n",
            "Requirement already satisfied: tzdata>=2022.7 in /usr/local/lib/python3.10/dist-packages (from pandas>=2.0.0->ortools) (2024.2)\n",
            "Requirement already satisfied: six>=1.5 in /usr/local/lib/python3.10/dist-packages (from python-dateutil>=2.8.2->pandas>=2.0.0->ortools) (1.17.0)\n",
            "Downloading ortools-9.11.4210-cp310-cp310-manylinux_2_17_x86_64.manylinux2014_x86_64.whl (28.1 MB)\n",
            "\u001b[2K   \u001b[90m━━━━━━━━━━━━━━━━━━━━━━━━━━━━━━━━━━━━━━━━\u001b[0m \u001b[32m28.1/28.1 MB\u001b[0m \u001b[31m27.7 MB/s\u001b[0m eta \u001b[36m0:00:00\u001b[0m\n",
            "\u001b[?25hDownloading absl_py-2.1.0-py3-none-any.whl (133 kB)\n",
            "\u001b[2K   \u001b[90m━━━━━━━━━━━━━━━━━━━━━━━━━━━━━━━━━━━━━━━━\u001b[0m \u001b[32m133.7/133.7 kB\u001b[0m \u001b[31m8.9 MB/s\u001b[0m eta \u001b[36m0:00:00\u001b[0m\n",
            "\u001b[?25hDownloading protobuf-5.26.1-cp37-abi3-manylinux2014_x86_64.whl (302 kB)\n",
            "\u001b[2K   \u001b[90m━━━━━━━━━━━━━━━━━━━━━━━━━━━━━━━━━━━━━━━━\u001b[0m \u001b[32m302.8/302.8 kB\u001b[0m \u001b[31m17.1 MB/s\u001b[0m eta \u001b[36m0:00:00\u001b[0m\n",
            "\u001b[?25hInstalling collected packages: protobuf, absl-py, ortools\n",
            "  Attempting uninstall: protobuf\n",
            "    Found existing installation: protobuf 4.25.5\n",
            "    Uninstalling protobuf-4.25.5:\n",
            "      Successfully uninstalled protobuf-4.25.5\n",
            "  Attempting uninstall: absl-py\n",
            "    Found existing installation: absl-py 1.4.0\n",
            "    Uninstalling absl-py-1.4.0:\n",
            "      Successfully uninstalled absl-py-1.4.0\n",
            "\u001b[31mERROR: pip's dependency resolver does not currently take into account all the packages that are installed. This behaviour is the source of the following dependency conflicts.\n",
            "tensorflow 2.17.1 requires protobuf!=4.21.0,!=4.21.1,!=4.21.2,!=4.21.3,!=4.21.4,!=4.21.5,<5.0.0dev,>=3.20.3, but you have protobuf 5.26.1 which is incompatible.\n",
            "tensorflow-metadata 1.13.1 requires absl-py<2.0.0,>=0.9, but you have absl-py 2.1.0 which is incompatible.\n",
            "tensorflow-metadata 1.13.1 requires protobuf<5,>=3.20.3, but you have protobuf 5.26.1 which is incompatible.\u001b[0m\u001b[31m\n",
            "\u001b[0mSuccessfully installed absl-py-2.1.0 ortools-9.11.4210 protobuf-5.26.1\n"
          ]
        }
      ]
    },
    {
      "cell_type": "code",
      "source": [
        "from ortools.linear_solver import pywraplp\n",
        "\n",
        "def allocate_clients_to_centers(efficiency):\n",
        "    # Criar o solver\n",
        "    solver = pywraplp.Solver.CreateSolver('SCIP')\n",
        "\n",
        "    if not solver:\n",
        "        raise Exception(\"O solver não está disponível.\")\n",
        "\n",
        "    num_clients = len(efficiency)  # Número de clientes\n",
        "    num_centers = len(efficiency[0])  # Número de centros\n",
        "\n",
        "    # Criar variáveis de decisão\n",
        "    x = {}\n",
        "    for i in range(num_clients):\n",
        "        for j in range(num_centers):\n",
        "            x[i, j] = solver.BoolVar(f'x[{i},{j}]')  # Variável binária\n",
        "\n",
        "    # Restrições: Cada cliente deve ser alocado a exatamente um centro\n",
        "    for i in range(num_clients):\n",
        "        solver.Add(sum(x[i, j] for j in range(num_centers)) == 1)\n",
        "\n",
        "    # Restrições: Cada centro deve atender no máximo um cliente\n",
        "    for j in range(num_centers):\n",
        "        solver.Add(sum(x[i, j] for i in range(num_clients)) <= 1)\n",
        "\n",
        "    # Função objetivo: Maximizar a eficiência total\n",
        "    solver.Maximize(solver.Sum(efficiency[i][j] * x[i, j] for i in range(num_clients) for j in range(num_centers)))\n",
        "\n",
        "    # Resolver o problema\n",
        "    status = solver.Solve()\n",
        "\n",
        "    if status == pywraplp.Solver.OPTIMAL:\n",
        "        print(\"Solução ótima encontrada!\")\n",
        "        print(\"Alocações:\")\n",
        "        total_efficiency = 0\n",
        "        for i in range(num_clients):\n",
        "            for j in range(num_centers):\n",
        "                if x[i, j].solution_value() == 1:\n",
        "                    print(f\"Cliente {i} -> Centro {j} (Pontuação: {efficiency[i][j]})\")\n",
        "                    total_efficiency += efficiency[i][j]\n",
        "        print(f\"Eficiência total: {total_efficiency}\")\n",
        "    else:\n",
        "        print(\"Não foi possível encontrar uma solução.\")\n",
        "\n",
        "# Exemplo de pontuações (matriz de eficiência)\n",
        "efficiency = [\n",
        "    [8, 6],  # Cliente 0 para Centros 0 e 1\n",
        "    [7, 9]   # Cliente 1 para Centros 0 e 1\n",
        "]\n",
        "\n",
        "allocate_clients_to_centers(efficiency)"
      ],
      "metadata": {
        "colab": {
          "base_uri": "https://localhost:8080/"
        },
        "id": "xZflprweTGF8",
        "outputId": "90cb6cfc-46e8-4fa8-b6ae-f2fce61bb620"
      },
      "execution_count": null,
      "outputs": [
        {
          "output_type": "stream",
          "name": "stdout",
          "text": [
            "Solução ótima encontrada!\n",
            "Alocações:\n",
            "Cliente 0 -> Centro 0 (Pontuação: 8)\n",
            "Cliente 1 -> Centro 1 (Pontuação: 9)\n",
            "Eficiência total: 17\n"
          ]
        }
      ]
    },
    {
      "cell_type": "code",
      "source": [
        "from ortools.linear_solver import pywraplp\n",
        "\n",
        "def allocate_clients_to_centers(efficiency):\n",
        "    # Criar o solver\n",
        "    solver = pywraplp.Solver.CreateSolver('CBC')\n",
        "\n",
        "    if not solver:\n",
        "        raise Exception(\"O solver não está disponível.\")\n",
        "\n",
        "    num_clients = len(efficiency)  # Número de clientes\n",
        "    num_centers = len(efficiency[0])  # Número de centros\n",
        "\n",
        "    # Criar variáveis de decisão\n",
        "    x = {}\n",
        "    for i in range(num_clients):\n",
        "        for j in range(num_centers):\n",
        "            x[i, j] = solver.BoolVar(f'x[{i},{j}]')  # Variável binária\n",
        "\n",
        "    # Restrições: Cada cliente deve ser alocado a exatamente um centro\n",
        "    for i in range(num_clients):\n",
        "        solver.Add(sum(x[i, j] for j in range(num_centers)) == 1)\n",
        "\n",
        "    # Restrições: Cada centro deve atender no máximo um cliente\n",
        "    for j in range(num_centers):\n",
        "        solver.Add(sum(x[i, j] for i in range(num_clients)) <= 1)\n",
        "\n",
        "    # Função objetivo: Maximizar a eficiência total\n",
        "    solver.Maximize(solver.Sum(efficiency[i][j] * x[i, j] for i in range(num_clients) for j in range(num_centers)))\n",
        "\n",
        "    # Resolver o problema\n",
        "    status = solver.Solve()\n",
        "\n",
        "    if status == pywraplp.Solver.OPTIMAL:\n",
        "        print(\"Solução ótima encontrada!\")\n",
        "        print(\"Alocações:\")\n",
        "        total_efficiency = 0\n",
        "        for i in range(num_clients):\n",
        "            for j in range(num_centers):\n",
        "                if x[i, j].solution_value() == 1:\n",
        "                    print(f\"Cliente {i} -> Centro {j} (Pontuação: {efficiency[i][j]})\")\n",
        "                    total_efficiency += efficiency[i][j]\n",
        "        print(f\"Eficiência total: {total_efficiency}\")\n",
        "    else:\n",
        "        print(\"Não foi possível encontrar uma solução.\")\n",
        "\n",
        "# Exemplo de pontuações (matriz de eficiência)\n",
        "efficiency = [\n",
        "    [8, 6],  # Cliente 0 para Centros 0 e 1\n",
        "    [7, 9]   # Cliente 1 para Centros 0 e 1\n",
        "]\n",
        "\n",
        "allocate_clients_to_centers(efficiency)"
      ],
      "metadata": {
        "colab": {
          "base_uri": "https://localhost:8080/"
        },
        "id": "wsK1AqPuTklY",
        "outputId": "13fe7dd6-dadf-42d0-f34a-a832927f72cc"
      },
      "execution_count": null,
      "outputs": [
        {
          "output_type": "stream",
          "name": "stdout",
          "text": [
            "Solução ótima encontrada!\n",
            "Alocações:\n",
            "Cliente 0 -> Centro 0 (Pontuação: 8)\n",
            "Cliente 1 -> Centro 1 (Pontuação: 9)\n",
            "Eficiência total: 17\n"
          ]
        }
      ]
    },
    {
      "cell_type": "code",
      "source": [
        "from ortools.linear_solver import pywraplp\n",
        "\n",
        "def allocate_clients_to_centers(efficiency):\n",
        "    # Criar o solver\n",
        "    solver = pywraplp.Solver.CreateSolver('CBC')\n",
        "    if not solver:\n",
        "        print(\"Solver não disponível.\")\n",
        "        return\n",
        "\n",
        "    num_clients = len(efficiency)\n",
        "    num_centers = len(efficiency[0])\n",
        "\n",
        "    # Variáveis de decisão: x[i][j] = 1 se cliente i for alocado ao centro j\n",
        "    x = {}\n",
        "    for i in range(num_clients):\n",
        "        for j in range(num_centers):\n",
        "            x[i, j] = solver.BoolVar(f'x[{i},{j}]')\n",
        "\n",
        "    # Restrição 1: Cada cliente deve ser alocado a exatamente 1 centro\n",
        "    for i in range(num_clients):\n",
        "        solver.Add(sum(x[i, j] for j in range(num_centers)) == 1)\n",
        "\n",
        "    # Restrição 2: Cada centro pode atender no máximo 1 cliente\n",
        "    for j in range(num_centers):\n",
        "        solver.Add(sum(x[i, j] for i in range(num_clients)) <= 1)\n",
        "\n",
        "    # Função objetivo: maximizar a eficiência total\n",
        "    solver.Maximize(solver.Sum(x[i, j] * efficiency[i][j] for i in range(num_clients) for j in range(num_centers)))\n",
        "\n",
        "    # Resolver o problema\n",
        "    status = solver.Solve()\n",
        "\n",
        "    if status == pywraplp.Solver.OPTIMAL:\n",
        "        print(\"Solução ótima encontrada!\")\n",
        "        solution = {}\n",
        "        for i in range(num_clients):\n",
        "            for j in range(num_centers):\n",
        "                if x[i, j].solution_value() > 0:\n",
        "                    solution[f'Cliente {i}'] = f'Centro {j}'\n",
        "        print(\"Alocação:\", solution)\n",
        "\n",
        "        # Verificar restrições\n",
        "        print(\"\\nVerificando restrições...\")\n",
        "\n",
        "        # Verificar se cada cliente foi alocado a exatamente um centro\n",
        "        for i in range(num_clients):\n",
        "            assigned_centers = sum(x[i, j].solution_value() for j in range(num_centers))\n",
        "            assert assigned_centers == 1, f\"Cliente {i} não foi alocado corretamente!\"\n",
        "\n",
        "        # Verificar se cada centro atende no máximo um cliente\n",
        "        for j in range(num_centers):\n",
        "            assigned_clients = sum(x[i, j].solution_value() for i in range(num_clients))\n",
        "            assert assigned_clients <= 1, f\"Centro {j} atende mais de um cliente!\"\n",
        "\n",
        "        print(\"Restrições satisfeitas!\")\n",
        "    else:\n",
        "        print(\"Não foi possível encontrar uma solução ótima.\")\n",
        "\n",
        "# Exemplo de pontuações (matriz de eficiência)\n",
        "efficiency = [\n",
        "    [8, 6],  # Cliente 0 para Centros 0 e 1\n",
        "    [7, 9]   # Cliente 1 para Centros 0 e 1\n",
        "]\n",
        "\n",
        "allocate_clients_to_centers(efficiency)"
      ],
      "metadata": {
        "colab": {
          "base_uri": "https://localhost:8080/"
        },
        "id": "mx9nc10_T4RJ",
        "outputId": "ad536640-005b-4746-dd6e-d134cec54fe0"
      },
      "execution_count": null,
      "outputs": [
        {
          "output_type": "stream",
          "name": "stdout",
          "text": [
            "Solução ótima encontrada!\n",
            "Alocação: {'Cliente 0': 'Centro 0', 'Cliente 1': 'Centro 1'}\n",
            "\n",
            "Verificando restrições...\n",
            "Restrições satisfeitas!\n"
          ]
        }
      ]
    }
  ]
}